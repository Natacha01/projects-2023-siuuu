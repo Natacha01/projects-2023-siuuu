{
 "cells": [
  {
   "cell_type": "code",
   "execution_count": 3,
   "metadata": {},
   "outputs": [],
   "source": [
    "# a. import\n",
    "import ipywidgets as widgets\n",
    "from scipy.stats import norm\n",
    "import matplotlib.pyplot as plt\n",
    "import numpy as np\n",
    "%matplotlib inline\n",
    "from HouseholdSpecializationModel import *\n"
   ]
  },
  {
   "cell_type": "code",
   "execution_count": 4,
   "metadata": {},
   "outputs": [],
   "source": [
    "# Lister med alpha og sigma værdier til loop\n",
    "alpha_values = [0.25, 0.5, 0.75]\n",
    "sigma_values = [0.5, 1, 1.5]"
   ]
  },
  {
   "cell_type": "code",
   "execution_count": 5,
   "metadata": {},
   "outputs": [
    {
     "name": "stdout",
     "output_type": "stream",
     "text": [
      "[0.3076923076923077, 1.0, 3.25]\n"
     ]
    }
   ],
   "source": [
    "#Returner H forhold for loop over alpha og sigma værdier\n",
    "H_div = []\n",
    "\n",
    "for i,j in zip(alpha_values, sigma_values):\n",
    "    model = HouseholdSpecializationModelClass()\n",
    "    model.par.alpha = i\n",
    "    model.par.sigma = j \n",
    "    opt = model.solve_discrete()\n",
    "    H_div.append(opt.HF/opt.HM)\n",
    "print(H_div)"
   ]
  },
  {
   "cell_type": "code",
   "execution_count": 6,
   "metadata": {},
   "outputs": [
    {
     "ename": "NameError",
     "evalue": "name 'X' is not defined",
     "output_type": "error",
     "traceback": [
      "\u001b[1;31m---------------------------------------------------------------------------\u001b[0m",
      "\u001b[1;31mNameError\u001b[0m                                 Traceback (most recent call last)",
      "\u001b[1;32m~\\AppData\\Local\\Temp\\ipykernel_24420\\2595529429.py\u001b[0m in \u001b[0;36m<module>\u001b[1;34m\u001b[0m\n\u001b[0;32m      2\u001b[0m \u001b[1;33m\u001b[0m\u001b[0m\n\u001b[0;32m      3\u001b[0m widgets.interact(H_div,\n\u001b[1;32m----> 4\u001b[1;33m                  \u001b[0mX\u001b[0m\u001b[1;33m=\u001b[0m\u001b[0mwidgets\u001b[0m\u001b[1;33m.\u001b[0m\u001b[0mFloatSlider\u001b[0m\u001b[1;33m(\u001b[0m\u001b[0mX\u001b[0m\u001b[1;33m)\u001b[0m\u001b[1;33m,\u001b[0m\u001b[1;33m\u001b[0m\u001b[1;33m\u001b[0m\u001b[0m\n\u001b[0m\u001b[0;32m      5\u001b[0m                  mu_guess=widgets.FloatSlider(\n\u001b[0;32m      6\u001b[0m                      description=\"$\\mu$\", min=0.1, max=5, step=0.05, value=1),\n",
      "\u001b[1;31mNameError\u001b[0m: name 'X' is not defined"
     ]
    }
   ],
   "source": [
    "#plot for alpha og sigma værdier\n",
    "\n",
    "widgets.interact(H_div,\n",
    "                 X=widgets.FloatSlider(X),\n",
    "                 mu_guess=widgets.FloatSlider(\n",
    "                     description=\"$\\mu$\", min=0.1, max=5, step=0.05, value=1),\n",
    "                 sigma_guess=widgets.FloatSlider(\n",
    "                     description=\"$\\sigma$\", min=0.1, max=5, step=0.05, value=1)\n",
    ")\n",
    "\n",
    "# a. Answer\n",
    "fig = plt.figure()\n",
    "ax = fig.add_subplot(1,1,1,projection='3d')\n",
    "ax.plot_wireframe(x1_values,x2_values,u_values,edgecolor='black')\n",
    "\n",
    "# b. add labels\n",
    "ax.set_xlabel('$x_1$')\n",
    "ax.set_ylabel('$x_2$')\n",
    "ax.set_zlabel('$u$')\n",
    "\n",
    "# c. invert xaxis\n",
    "ax.invert_xaxis()\n",
    "\n",
    "# e. save\n",
    "fig.tight_layout()\n",
    "fig.savefig('someplot_wireframe.png')\n",
    "fig.savefig('someplot_wireframe.pdf')\n"
   ]
  }
 ],
 "metadata": {
  "kernelspec": {
   "display_name": "base",
   "language": "python",
   "name": "python3"
  },
  "language_info": {
   "codemirror_mode": {
    "name": "ipython",
    "version": 3
   },
   "file_extension": ".py",
   "mimetype": "text/x-python",
   "name": "python",
   "nbconvert_exporter": "python",
   "pygments_lexer": "ipython3",
   "version": "3.9.16"
  },
  "orig_nbformat": 4,
  "vscode": {
   "interpreter": {
    "hash": "ce97a40daf78da1716e1e2ad09a44dea86fc49ddf8a2b686b6f576ee583f757e"
   }
  }
 },
 "nbformat": 4,
 "nbformat_minor": 2
}
