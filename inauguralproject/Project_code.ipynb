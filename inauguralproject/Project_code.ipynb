{
 "cells": [
  {
   "cell_type": "code",
   "execution_count": null,
   "metadata": {},
   "outputs": [],
   "source": []
  }
 ],
 "metadata": {
  "kernelspec": {
   "display_name": "base",
   "language": "python",
   "name": "python3"
  },
  "language_info": {
   "name": "python",
   "version": "3.9.16"
  },
  "orig_nbformat": 4,
  "vscode": {
   "interpreter": {
    "hash": "ce97a40daf78da1716e1e2ad09a44dea86fc49ddf8a2b686b6f576ee583f757e"
   }
  }
 },
 "nbformat": 4,
 "nbformat_minor": 2
}
