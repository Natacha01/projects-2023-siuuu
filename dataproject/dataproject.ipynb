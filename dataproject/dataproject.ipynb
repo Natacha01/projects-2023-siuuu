{
 "cells": [
  {
   "cell_type": "markdown",
   "metadata": {},
   "source": [
    "# YOUR PROJECT TITLE"
   ]
  },
  {
   "attachments": {},
   "cell_type": "markdown",
   "metadata": {},
   "source": [
    "> **Note the following:** \n",
    "> 1. This is *not* meant to be an example of an actual **data analysis project**, just an example of how to structure such a project.\n",
    "> 1. Remember the general advice on structuring and commenting your code\n",
    "> 1. The `dataproject.py` file includes a function which can be used multiple times in this notebook."
   ]
  },
  {
   "attachments": {},
   "cell_type": "markdown",
   "metadata": {},
   "source": [
    "Imports of packages:"
   ]
  },
  {
   "cell_type": "code",
   "execution_count": 1,
   "metadata": {},
   "outputs": [
    {
     "name": "stdout",
     "output_type": "stream",
     "text": [
      "           Dato         Safe      Optimum          Max   Responsible  \\\n",
      "1813 2023-03-29  3983.423486  5359.255150  7023.261149  11239.296036   \n",
      "1814 2023-03-30  3989.906942  5382.447224  7070.444714  11306.482668   \n",
      "1815 2023-03-31  3995.041821  5386.944102  7083.429276  11327.156115   \n",
      "1816 2023-04-03  3989.001183  5373.858083  7054.494138  11316.565444   \n",
      "1817 2023-04-04  3991.530535  5374.700449  7055.183160  11311.857773   \n",
      "\n",
      "              Dmax  \n",
      "1813  31583.760310  \n",
      "1814  32018.341684  \n",
      "1815  32139.975534  \n",
      "1816  31847.874304  \n",
      "1817  31853.561875  \n"
     ]
    }
   ],
   "source": [
    "import pandas as pd\n",
    "import numpy as np\n",
    "import plotly.express as px\n",
    "import plotly.graph_objects as go\n",
    "import datetime\n",
    "from datetime import date, timedelta\n",
    "from plotly.subplots import make_subplots\n",
    "from unittest import skip\n",
    "import chart_studio\n",
    "import chart_studio.plotly as py\n",
    "\n",
    "\n",
    "# autoreload modules when code is run\n",
    "%load_ext autoreload\n",
    "%autoreload 2\n",
    "\n",
    "# user written modules\n",
    "import dataproject\n",
    "import pandas as pd\n",
    "import requests"
   ]
  },
  {
   "attachments": {},
   "cell_type": "markdown",
   "metadata": {},
   "source": [
    "Import of datasets:"
   ]
  },
  {
   "cell_type": "code",
   "execution_count": 8,
   "metadata": {},
   "outputs": [],
   "source": [
    "url_historik = 'https://github.com/NumEconCopenhagen/projects-2023-siuuu/blob/main/dataproject/Kurshistorik%2C%20safemax.xlsx?raw=true'\n",
    "response_historik = requests.get(url_historik)\n",
    "content_historik = response_historik.content\n",
    "# Creating dataframe from excel file that contains the historical data\n",
    "DataSafeMax = pd.read_excel(content_historik, sheet_name='KursHistorisk', usecols=\"B:G\", skiprows=2, engine='openpyxl')\n",
    "DataSafeMax = DataSafeMax.rename(columns={'DMax': 'Dmax'})\n",
    "# Creating dataframe from excel file that contains the historical data\n",
    "Kurserhistorik = pd.read_excel(content_historik, sheet_name='KurserHistorisk', engine='openpyxl')\n",
    "Kurserhistorik.drop(Kurserhistorik.columns[0], axis=1, inplace=True)\n",
    "# Now we want to create a new dataframe that contains the historical data for the funds, why we import a nwe excel file\n",
    "url_indeks = 'https://github.com/NumEconCopenhagen/projects-2023-siuuu/blob/main/dataproject/IndeksData_udenmakro.xlsx'\n",
    "response_indeks = requests.get(url_indeks)\n",
    "content_indeks = response_indeks.content\n",
    "\n",
    "url_indeks = 'https://github.com/NumEconCopenhagen/projects-2023-siuuu/blob/main/dataproject/IndeksData_udenmakro.xlsx?raw=true'\n",
    "response_indeks = requests.get(url_indeks)\n",
    "content_indeks = response_indeks.content\n",
    "# The dataframe is now created\n",
    "IndeksData = pd.read_excel(content_indeks, sheet_name='Fonde', usecols=\"C,E, G:H, AB:AC, HM:HN, HQ:HR\", skiprows=1, engine='openpyxl')\n"
   ]
  },
  {
   "cell_type": "code",
   "execution_count": 6,
   "metadata": {},
   "outputs": [
    {
     "name": "stdout",
     "output_type": "stream",
     "text": [
      "   2023-04-11 00:00:00  Unnamed: 1       NYKRINDX Index 2023-04-11 00:00:00.1  \\\n",
      "0                  NaN         NaN                 Dato               PX_LAST   \n",
      "1                  NaN         NaN                  NaN                308.02   \n",
      "2                  NaN         NaN  2008-11-14 00:00:00                308.22   \n",
      "3                  NaN         NaN  2008-11-17 00:00:00                309.27   \n",
      "4                  NaN         NaN  2008-11-18 00:00:00                309.35   \n",
      "\n",
      "   NykreditIndex  Unnamed: 5       NDUEACWF Index MSCIWorldAC  \\\n",
      "0            NaN         NaN                 Dato     PX_LAST   \n",
      "1         308.02         NaN                  NaN   521.02488   \n",
      "2         308.22         NaN  2008-11-14 00:00:00   502.88426   \n",
      "3         309.27         NaN  2008-11-17 00:00:00   491.40308   \n",
      "4         309.35         NaN  2008-11-18 00:00:00   493.18141   \n",
      "\n",
      "   2023-04-11 00:00:00.2  MSCI ACWI Net Total Return USD Index  ...  \\\n",
      "0                    NaN                                   NaN  ...   \n",
      "1                    NaN                                   NaN  ...   \n",
      "2                    NaN                                   NaN  ...   \n",
      "3                    NaN                                   NaN  ...   \n",
      "4                    NaN                                   NaN  ...   \n",
      "\n",
      "  Unnamed: 239     CMINOA DC Equity        Unnamed: 241  \\\n",
      "0          NaN                 Dato  FUND_NET_ASSET_VAL   \n",
      "1          NaN                  NaN               94.77   \n",
      "2          NaN  2019-10-21 00:00:00               95.84   \n",
      "3          NaN  2019-10-22 00:00:00               96.23   \n",
      "4          NaN  2019-10-23 00:00:00               95.59   \n",
      "\n",
      "   2023-04-11 00:00:00.52 Unnamed: 243  2019-06-25 00:00:00 Unnamed: 245  \\\n",
      "0                     NaN          NaN              Opstart          NaN   \n",
      "1                     NaN          NaN                  NaN          NaN   \n",
      "2                     NaN          NaN  2020-02-21 00:00:00          5.4   \n",
      "3                     NaN          NaN  2019-02-20 00:00:00          6.6   \n",
      "4                     NaN          NaN  2018-03-07 00:00:00          8.7   \n",
      "\n",
      "  Unnamed: 246       DLJWVLUE Index   FlexFond3  \n",
      "0          NaN                 Dato     PX_LAST  \n",
      "1          NaN  2008-11-13 00:00:00  1682.79178  \n",
      "2          NaN  2008-11-14 00:00:00  1699.68332  \n",
      "3          NaN  2008-11-17 00:00:00  1667.45676  \n",
      "4          NaN  2008-11-18 00:00:00  1643.15081  \n",
      "\n",
      "[5 rows x 249 columns]\n"
     ]
    }
   ],
   "source": []
  },
  {
   "cell_type": "code",
   "execution_count": 2,
   "metadata": {},
   "outputs": [
    {
     "name": "stdout",
     "output_type": "stream",
     "text": [
      "           Dato         Safe      Optimum          Max   Responsible  \\\n",
      "1813 2023-03-29  3983.423486  5359.255150  7023.261149  11239.296036   \n",
      "1814 2023-03-30  3989.906942  5382.447224  7070.444714  11306.482668   \n",
      "1815 2023-03-31  3995.041821  5386.944102  7083.429276  11327.156115   \n",
      "1816 2023-04-03  3989.001183  5373.858083  7054.494138  11316.565444   \n",
      "1817 2023-04-04  3991.530535  5374.700449  7055.183160  11311.857773   \n",
      "\n",
      "              Dmax  \n",
      "1813  31583.760310  \n",
      "1814  32018.341684  \n",
      "1815  32139.975534  \n",
      "1816  31847.874304  \n",
      "1817  31853.561875  \n",
      "           Dato         Safe      Optimum          Max   Responsible  \\\n",
      "5108 2022-12-27  4046.650081  5550.487165  7368.643177  11753.200598   \n",
      "5109 2022-12-28  4046.650081  5550.487165  7368.643177  11753.200598   \n",
      "5110 2022-12-29  4046.650081  5550.487165  7368.643177  11753.200598   \n",
      "5111 2022-12-30  4046.650081  5550.487165  7368.643177  11753.200598   \n",
      "5112 2022-12-31  4046.650081  5550.487165  7368.643177  11753.200598   \n",
      "\n",
      "              Dmax  \n",
      "5108  36999.579601  \n",
      "5109  36999.579601  \n",
      "5110  36999.579601  \n",
      "5111  36999.579601  \n",
      "5112  36999.579601  \n"
     ]
    }
   ],
   "source": [
    "print(DataSafeMax.tail())\n",
    "print(Kurserhistorik.tail())"
   ]
  },
  {
   "cell_type": "code",
   "execution_count": 3,
   "metadata": {},
   "outputs": [
    {
     "ename": "FileNotFoundError",
     "evalue": "[Errno 2] No such file or directory: 'C:\\\\Users\\\\Janze\\\\OneDrive\\\\Skrivebord\\\\Introduction_to_programming\\\\projects-2023-siuuu\\\\dataproject\\\\Kurshistorik, safemax.xlsx'",
     "output_type": "error",
     "traceback": [
      "\u001b[0;31m---------------------------------------------------------------------------\u001b[0m",
      "\u001b[0;31mFileNotFoundError\u001b[0m                         Traceback (most recent call last)",
      "\u001b[0;32m/var/folders/q_/vqvmlj2j519bgbc5rhd532sr0000gn/T/ipykernel_60587/943485010.py\u001b[0m in \u001b[0;36m<module>\u001b[0;34m\u001b[0m\n\u001b[0;32m----> 1\u001b[0;31m \u001b[0mHistoriskNAVData\u001b[0m \u001b[0;34m=\u001b[0m \u001b[0mpd\u001b[0m\u001b[0;34m.\u001b[0m\u001b[0mread_excel\u001b[0m\u001b[0;34m(\u001b[0m\u001b[0;34mr'C:\\Users\\Janze\\OneDrive\\Skrivebord\\Introduction_to_programming\\projects-2023-siuuu\\dataproject\\Kurshistorik, safemax.xlsx'\u001b[0m\u001b[0;34m,\u001b[0m \u001b[0msheet_name\u001b[0m\u001b[0;34m=\u001b[0m\u001b[0;34m\"KurserHistorisk\"\u001b[0m\u001b[0;34m)\u001b[0m\u001b[0;34m\u001b[0m\u001b[0;34m\u001b[0m\u001b[0m\n\u001b[0m\u001b[1;32m      2\u001b[0m \u001b[0mHistoriskNAVData\u001b[0m\u001b[0;34m.\u001b[0m\u001b[0mdrop\u001b[0m\u001b[0;34m(\u001b[0m\u001b[0mHistoriskNAVData\u001b[0m\u001b[0;34m.\u001b[0m\u001b[0mcolumns\u001b[0m\u001b[0;34m[\u001b[0m\u001b[0;36m0\u001b[0m\u001b[0;34m]\u001b[0m\u001b[0;34m,\u001b[0m \u001b[0maxis\u001b[0m\u001b[0;34m=\u001b[0m\u001b[0;36m1\u001b[0m\u001b[0;34m,\u001b[0m \u001b[0minplace\u001b[0m\u001b[0;34m=\u001b[0m\u001b[0;32mTrue\u001b[0m\u001b[0;34m)\u001b[0m\u001b[0;34m\u001b[0m\u001b[0;34m\u001b[0m\u001b[0m\n\u001b[1;32m      3\u001b[0m \u001b[0;34m\u001b[0m\u001b[0m\n\u001b[1;32m      4\u001b[0m \u001b[0mDataSafe12Max\u001b[0m \u001b[0;34m=\u001b[0m \u001b[0mpd\u001b[0m\u001b[0;34m.\u001b[0m\u001b[0mread_excel\u001b[0m\u001b[0;34m(\u001b[0m\u001b[0;34mr'C:\\Users\\Janze\\OneDrive\\Skrivebord\\Introduction_to_programming\\projects-2023-siuuu\\dataproject\\Kurshistorik, safemax.xlsx'\u001b[0m\u001b[0;34m,\u001b[0m \u001b[0msheet_name\u001b[0m\u001b[0;34m=\u001b[0m\u001b[0;34m\"KursHistorisk\"\u001b[0m\u001b[0;34m,\u001b[0m \u001b[0musecols\u001b[0m\u001b[0;34m=\u001b[0m\u001b[0;34m\"B:G\"\u001b[0m\u001b[0;34m,\u001b[0m \u001b[0mskiprows\u001b[0m\u001b[0;34m=\u001b[0m\u001b[0;36m2\u001b[0m\u001b[0;34m)\u001b[0m\u001b[0;34m\u001b[0m\u001b[0;34m\u001b[0m\u001b[0m\n\u001b[1;32m      5\u001b[0m \u001b[0mDataSafe12Max\u001b[0m \u001b[0;34m=\u001b[0m \u001b[0mDataSafe12Max\u001b[0m\u001b[0;34m.\u001b[0m\u001b[0mrename\u001b[0m\u001b[0;34m(\u001b[0m\u001b[0mcolumns\u001b[0m \u001b[0;34m=\u001b[0m \u001b[0;34m{\u001b[0m\u001b[0;34m'DMax'\u001b[0m\u001b[0;34m:\u001b[0m\u001b[0;34m'Dmax'\u001b[0m\u001b[0;34m}\u001b[0m\u001b[0;34m)\u001b[0m\u001b[0;34m\u001b[0m\u001b[0;34m\u001b[0m\u001b[0m\n",
      "\u001b[0;32m~/opt/anaconda3/lib/python3.9/site-packages/pandas/util/_decorators.py\u001b[0m in \u001b[0;36mwrapper\u001b[0;34m(*args, **kwargs)\u001b[0m\n\u001b[1;32m    309\u001b[0m                     \u001b[0mstacklevel\u001b[0m\u001b[0;34m=\u001b[0m\u001b[0mstacklevel\u001b[0m\u001b[0;34m,\u001b[0m\u001b[0;34m\u001b[0m\u001b[0;34m\u001b[0m\u001b[0m\n\u001b[1;32m    310\u001b[0m                 )\n\u001b[0;32m--> 311\u001b[0;31m             \u001b[0;32mreturn\u001b[0m \u001b[0mfunc\u001b[0m\u001b[0;34m(\u001b[0m\u001b[0;34m*\u001b[0m\u001b[0margs\u001b[0m\u001b[0;34m,\u001b[0m \u001b[0;34m**\u001b[0m\u001b[0mkwargs\u001b[0m\u001b[0;34m)\u001b[0m\u001b[0;34m\u001b[0m\u001b[0;34m\u001b[0m\u001b[0m\n\u001b[0m\u001b[1;32m    312\u001b[0m \u001b[0;34m\u001b[0m\u001b[0m\n\u001b[1;32m    313\u001b[0m         \u001b[0;32mreturn\u001b[0m \u001b[0mwrapper\u001b[0m\u001b[0;34m\u001b[0m\u001b[0;34m\u001b[0m\u001b[0m\n",
      "\u001b[0;32m~/opt/anaconda3/lib/python3.9/site-packages/pandas/io/excel/_base.py\u001b[0m in \u001b[0;36mread_excel\u001b[0;34m(io, sheet_name, header, names, index_col, usecols, squeeze, dtype, engine, converters, true_values, false_values, skiprows, nrows, na_values, keep_default_na, na_filter, verbose, parse_dates, date_parser, thousands, decimal, comment, skipfooter, convert_float, mangle_dupe_cols, storage_options)\u001b[0m\n\u001b[1;32m    455\u001b[0m     \u001b[0;32mif\u001b[0m \u001b[0;32mnot\u001b[0m \u001b[0misinstance\u001b[0m\u001b[0;34m(\u001b[0m\u001b[0mio\u001b[0m\u001b[0;34m,\u001b[0m \u001b[0mExcelFile\u001b[0m\u001b[0;34m)\u001b[0m\u001b[0;34m:\u001b[0m\u001b[0;34m\u001b[0m\u001b[0;34m\u001b[0m\u001b[0m\n\u001b[1;32m    456\u001b[0m         \u001b[0mshould_close\u001b[0m \u001b[0;34m=\u001b[0m \u001b[0;32mTrue\u001b[0m\u001b[0;34m\u001b[0m\u001b[0;34m\u001b[0m\u001b[0m\n\u001b[0;32m--> 457\u001b[0;31m         \u001b[0mio\u001b[0m \u001b[0;34m=\u001b[0m \u001b[0mExcelFile\u001b[0m\u001b[0;34m(\u001b[0m\u001b[0mio\u001b[0m\u001b[0;34m,\u001b[0m \u001b[0mstorage_options\u001b[0m\u001b[0;34m=\u001b[0m\u001b[0mstorage_options\u001b[0m\u001b[0;34m,\u001b[0m \u001b[0mengine\u001b[0m\u001b[0;34m=\u001b[0m\u001b[0mengine\u001b[0m\u001b[0;34m)\u001b[0m\u001b[0;34m\u001b[0m\u001b[0;34m\u001b[0m\u001b[0m\n\u001b[0m\u001b[1;32m    458\u001b[0m     \u001b[0;32melif\u001b[0m \u001b[0mengine\u001b[0m \u001b[0;32mand\u001b[0m \u001b[0mengine\u001b[0m \u001b[0;34m!=\u001b[0m \u001b[0mio\u001b[0m\u001b[0;34m.\u001b[0m\u001b[0mengine\u001b[0m\u001b[0;34m:\u001b[0m\u001b[0;34m\u001b[0m\u001b[0;34m\u001b[0m\u001b[0m\n\u001b[1;32m    459\u001b[0m         raise ValueError(\n",
      "\u001b[0;32m~/opt/anaconda3/lib/python3.9/site-packages/pandas/io/excel/_base.py\u001b[0m in \u001b[0;36m__init__\u001b[0;34m(self, path_or_buffer, engine, storage_options)\u001b[0m\n\u001b[1;32m   1374\u001b[0m                 \u001b[0mext\u001b[0m \u001b[0;34m=\u001b[0m \u001b[0;34m\"xls\"\u001b[0m\u001b[0;34m\u001b[0m\u001b[0;34m\u001b[0m\u001b[0m\n\u001b[1;32m   1375\u001b[0m             \u001b[0;32melse\u001b[0m\u001b[0;34m:\u001b[0m\u001b[0;34m\u001b[0m\u001b[0;34m\u001b[0m\u001b[0m\n\u001b[0;32m-> 1376\u001b[0;31m                 ext = inspect_excel_format(\n\u001b[0m\u001b[1;32m   1377\u001b[0m                     \u001b[0mcontent_or_path\u001b[0m\u001b[0;34m=\u001b[0m\u001b[0mpath_or_buffer\u001b[0m\u001b[0;34m,\u001b[0m \u001b[0mstorage_options\u001b[0m\u001b[0;34m=\u001b[0m\u001b[0mstorage_options\u001b[0m\u001b[0;34m\u001b[0m\u001b[0;34m\u001b[0m\u001b[0m\n\u001b[1;32m   1378\u001b[0m                 )\n",
      "\u001b[0;32m~/opt/anaconda3/lib/python3.9/site-packages/pandas/io/excel/_base.py\u001b[0m in \u001b[0;36minspect_excel_format\u001b[0;34m(content_or_path, storage_options)\u001b[0m\n\u001b[1;32m   1248\u001b[0m         \u001b[0mcontent_or_path\u001b[0m \u001b[0;34m=\u001b[0m \u001b[0mBytesIO\u001b[0m\u001b[0;34m(\u001b[0m\u001b[0mcontent_or_path\u001b[0m\u001b[0;34m)\u001b[0m\u001b[0;34m\u001b[0m\u001b[0;34m\u001b[0m\u001b[0m\n\u001b[1;32m   1249\u001b[0m \u001b[0;34m\u001b[0m\u001b[0m\n\u001b[0;32m-> 1250\u001b[0;31m     with get_handle(\n\u001b[0m\u001b[1;32m   1251\u001b[0m         \u001b[0mcontent_or_path\u001b[0m\u001b[0;34m,\u001b[0m \u001b[0;34m\"rb\"\u001b[0m\u001b[0;34m,\u001b[0m \u001b[0mstorage_options\u001b[0m\u001b[0;34m=\u001b[0m\u001b[0mstorage_options\u001b[0m\u001b[0;34m,\u001b[0m \u001b[0mis_text\u001b[0m\u001b[0;34m=\u001b[0m\u001b[0;32mFalse\u001b[0m\u001b[0;34m\u001b[0m\u001b[0;34m\u001b[0m\u001b[0m\n\u001b[1;32m   1252\u001b[0m     ) as handle:\n",
      "\u001b[0;32m~/opt/anaconda3/lib/python3.9/site-packages/pandas/io/common.py\u001b[0m in \u001b[0;36mget_handle\u001b[0;34m(path_or_buf, mode, encoding, compression, memory_map, is_text, errors, storage_options)\u001b[0m\n\u001b[1;32m    793\u001b[0m         \u001b[0;32melse\u001b[0m\u001b[0;34m:\u001b[0m\u001b[0;34m\u001b[0m\u001b[0;34m\u001b[0m\u001b[0m\n\u001b[1;32m    794\u001b[0m             \u001b[0;31m# Binary mode\u001b[0m\u001b[0;34m\u001b[0m\u001b[0;34m\u001b[0m\u001b[0m\n\u001b[0;32m--> 795\u001b[0;31m             \u001b[0mhandle\u001b[0m \u001b[0;34m=\u001b[0m \u001b[0mopen\u001b[0m\u001b[0;34m(\u001b[0m\u001b[0mhandle\u001b[0m\u001b[0;34m,\u001b[0m \u001b[0mioargs\u001b[0m\u001b[0;34m.\u001b[0m\u001b[0mmode\u001b[0m\u001b[0;34m)\u001b[0m\u001b[0;34m\u001b[0m\u001b[0;34m\u001b[0m\u001b[0m\n\u001b[0m\u001b[1;32m    796\u001b[0m         \u001b[0mhandles\u001b[0m\u001b[0;34m.\u001b[0m\u001b[0mappend\u001b[0m\u001b[0;34m(\u001b[0m\u001b[0mhandle\u001b[0m\u001b[0;34m)\u001b[0m\u001b[0;34m\u001b[0m\u001b[0;34m\u001b[0m\u001b[0m\n\u001b[1;32m    797\u001b[0m \u001b[0;34m\u001b[0m\u001b[0m\n",
      "\u001b[0;31mFileNotFoundError\u001b[0m: [Errno 2] No such file or directory: 'C:\\\\Users\\\\Janze\\\\OneDrive\\\\Skrivebord\\\\Introduction_to_programming\\\\projects-2023-siuuu\\\\dataproject\\\\Kurshistorik, safemax.xlsx'"
     ]
    }
   ],
   "source": []
  },
  {
   "cell_type": "code",
   "execution_count": 14,
   "metadata": {},
   "outputs": [
    {
     "name": "stdout",
     "output_type": "stream",
     "text": [
      "stock_list: ['SPY']\n",
      "[*********************100%***********************]  1 of 1 completed\n",
      "data fields downloaded: {'Low', 'Volume', 'Close', 'High', 'Open', 'Adj Close'}\n"
     ]
    },
    {
     "data": {
      "text/html": [
       "<div>\n",
       "<style scoped>\n",
       "    .dataframe tbody tr th:only-of-type {\n",
       "        vertical-align: middle;\n",
       "    }\n",
       "\n",
       "    .dataframe tbody tr th {\n",
       "        vertical-align: top;\n",
       "    }\n",
       "\n",
       "    .dataframe thead th {\n",
       "        text-align: right;\n",
       "    }\n",
       "</style>\n",
       "<table border=\"1\" class=\"dataframe\">\n",
       "  <thead>\n",
       "    <tr style=\"text-align: right;\">\n",
       "      <th></th>\n",
       "      <th>Open</th>\n",
       "      <th>High</th>\n",
       "      <th>Low</th>\n",
       "      <th>Close</th>\n",
       "      <th>Adj Close</th>\n",
       "      <th>Volume</th>\n",
       "    </tr>\n",
       "    <tr>\n",
       "      <th>Date</th>\n",
       "      <th></th>\n",
       "      <th></th>\n",
       "      <th></th>\n",
       "      <th></th>\n",
       "      <th></th>\n",
       "      <th></th>\n",
       "    </tr>\n",
       "  </thead>\n",
       "  <tbody>\n",
       "    <tr>\n",
       "      <th>2020-02-13</th>\n",
       "      <td>335.859985</td>\n",
       "      <td>338.119995</td>\n",
       "      <td>335.559998</td>\n",
       "      <td>337.059998</td>\n",
       "      <td>320.093842</td>\n",
       "      <td>54501900</td>\n",
       "    </tr>\n",
       "    <tr>\n",
       "      <th>2020-02-14</th>\n",
       "      <td>337.510010</td>\n",
       "      <td>337.730011</td>\n",
       "      <td>336.200012</td>\n",
       "      <td>337.600006</td>\n",
       "      <td>320.606689</td>\n",
       "      <td>64582200</td>\n",
       "    </tr>\n",
       "    <tr>\n",
       "      <th>2020-02-18</th>\n",
       "      <td>336.510010</td>\n",
       "      <td>337.670013</td>\n",
       "      <td>335.209991</td>\n",
       "      <td>336.730011</td>\n",
       "      <td>319.780487</td>\n",
       "      <td>57226200</td>\n",
       "    </tr>\n",
       "    <tr>\n",
       "      <th>2020-02-19</th>\n",
       "      <td>337.790009</td>\n",
       "      <td>339.079987</td>\n",
       "      <td>337.480011</td>\n",
       "      <td>338.339996</td>\n",
       "      <td>321.309387</td>\n",
       "      <td>48814700</td>\n",
       "    </tr>\n",
       "    <tr>\n",
       "      <th>2020-02-20</th>\n",
       "      <td>337.739990</td>\n",
       "      <td>338.640015</td>\n",
       "      <td>333.679993</td>\n",
       "      <td>336.950012</td>\n",
       "      <td>319.989441</td>\n",
       "      <td>74163400</td>\n",
       "    </tr>\n",
       "  </tbody>\n",
       "</table>\n",
       "</div>"
      ],
      "text/plain": [
       "                  Open        High         Low       Close   Adj Close  \\\n",
       "Date                                                                     \n",
       "2020-02-13  335.859985  338.119995  335.559998  337.059998  320.093842   \n",
       "2020-02-14  337.510010  337.730011  336.200012  337.600006  320.606689   \n",
       "2020-02-18  336.510010  337.670013  335.209991  336.730011  319.780487   \n",
       "2020-02-19  337.790009  339.079987  337.480011  338.339996  321.309387   \n",
       "2020-02-20  337.739990  338.640015  333.679993  336.950012  319.989441   \n",
       "\n",
       "              Volume  \n",
       "Date                  \n",
       "2020-02-13  54501900  \n",
       "2020-02-14  64582200  \n",
       "2020-02-18  57226200  \n",
       "2020-02-19  48814700  \n",
       "2020-02-20  74163400  "
      ]
     },
     "execution_count": 14,
     "metadata": {},
     "output_type": "execute_result"
    }
   ],
   "source": [
    "stock_list = ['SPY']\n",
    "print('stock_list:', stock_list)\n",
    "data = yf.download(stock_list, start=\"2015-01-01\", end=\"2020-02-21\")\n",
    "print('data fields downloaded:', set(data.columns.get_level_values(0)))\n",
    "data.tail()"
   ]
  },
  {
   "cell_type": "code",
   "execution_count": 25,
   "metadata": {},
   "outputs": [
    {
     "data": {
      "text/plain": [
       "{'symbol': 'TSLA',\n",
       " 'twoHundredDayAverageChangePercent': -0.08075416,\n",
       " 'fiftyTwoWeekLowChangePercent': 0.9469601,\n",
       " 'averageAnalystRating': '2.4 - Buy',\n",
       " 'language': 'en-US',\n",
       " 'earningsTimestampEnd': 1681934400,\n",
       " 'regularMarketDayRange': '196.47 - 198.47',\n",
       " 'epsForward': 5.47,\n",
       " 'regularMarketDayHigh': 198.47,\n",
       " 'twoHundredDayAverageChange': -17.413284,\n",
       " 'twoHundredDayAverage': 215.63329,\n",
       " 'askSize': 8,\n",
       " 'bookValue': 14.129,\n",
       " 'fiftyTwoWeekHighChange': -186.07,\n",
       " 'marketCap': 668181790720,\n",
       " 'fiftyTwoWeekRange': '101.81 - 384.29',\n",
       " 'fiftyDayAverageChange': 9.487198,\n",
       " 'firstTradeDateMilliseconds': 1277818200000,\n",
       " 'exchangeDataDelayedBy': 0,\n",
       " 'averageDailyVolume3Month': 173621083,\n",
       " 'trailingAnnualDividendRate': 0.0,\n",
       " 'fiftyTwoWeekLow': 101.81,\n",
       " 'market': 'us_market',\n",
       " 'regularMarketVolume': 7433035,\n",
       " 'quoteSourceName': 'Nasdaq Real Time Price',\n",
       " 'messageBoardId': 'finmb_27444752',\n",
       " 'priceHint': 2,\n",
       " 'exchange': 'NMS',\n",
       " 'sourceInterval': 15,\n",
       " 'regularMarketDayLow': 196.47,\n",
       " 'shortName': 'Tesla, Inc.',\n",
       " 'region': 'US',\n",
       " 'fiftyDayAverageChangePercent': 0.05026788,\n",
       " 'fullExchangeName': 'NasdaqGS',\n",
       " 'earningsTimestampStart': 1681934400,\n",
       " 'financialCurrency': 'USD',\n",
       " 'displayName': 'Tesla',\n",
       " 'gmtOffSetMilliseconds': -14400000,\n",
       " 'regularMarketOpen': 199.91,\n",
       " 'regularMarketTime': '9:33AM EDT',\n",
       " 'regularMarketChangePercent': 1.7713184,\n",
       " 'trailingAnnualDividendYield': 0.0,\n",
       " 'quoteType': 'EQUITY',\n",
       " 'fiftyTwoWeekLowChange': 96.41,\n",
       " 'averageDailyVolume10Day': 135662810,\n",
       " 'fiftyTwoWeekHighChangePercent': -0.48419163,\n",
       " 'typeDisp': 'Equity',\n",
       " 'trailingPE': 58.471973,\n",
       " 'tradeable': False,\n",
       " 'currency': 'USD',\n",
       " 'sharesOutstanding': 3164100096,\n",
       " 'fiftyTwoWeekHigh': 384.29,\n",
       " 'regularMarketPreviousClose': 194.77,\n",
       " 'exchangeTimezoneName': 'America/New_York',\n",
       " 'regularMarketChange': 3.449997,\n",
       " 'bidSize': 10,\n",
       " 'priceEpsCurrentYear': 52.02625,\n",
       " 'cryptoTradeable': False,\n",
       " 'fiftyDayAverage': 188.7328,\n",
       " 'epsCurrentYear': 3.81,\n",
       " 'exchangeTimezoneShortName': 'EDT',\n",
       " 'customPriceAlertConfidence': 'HIGH',\n",
       " 'regularMarketPrice': 198.22,\n",
       " 'marketState': 'REGULAR',\n",
       " 'forwardPE': 36.237663,\n",
       " 'earningsTimestamp': 1681934400,\n",
       " 'ask': 196.63,\n",
       " 'epsTrailingTwelveMonths': 3.39,\n",
       " 'bid': 196.51,\n",
       " 'priceToBook': 14.029302,\n",
       " 'triggerable': True,\n",
       " 'longName': 'Tesla, Inc.',\n",
       " 'trailingPegRatio': 1.7487}"
      ]
     },
     "execution_count": 25,
     "metadata": {},
     "output_type": "execute_result"
    }
   ],
   "source": [
    "tsla = yf.Ticker(\"TSLA\")"
   ]
  },
  {
   "cell_type": "markdown",
   "metadata": {},
   "source": [
    "# Read and clean data"
   ]
  },
  {
   "cell_type": "markdown",
   "metadata": {},
   "source": [
    "Import your data, either through an API or manually, and load it. "
   ]
  },
  {
   "cell_type": "markdown",
   "metadata": {},
   "source": [
    "## Explore each data set"
   ]
  },
  {
   "cell_type": "markdown",
   "metadata": {},
   "source": [
    "In order to be able to **explore the raw data**, you may provide **static** and **interactive plots** to show important developments "
   ]
  },
  {
   "cell_type": "markdown",
   "metadata": {},
   "source": [
    "**Interactive plot** :"
   ]
  },
  {
   "cell_type": "code",
   "execution_count": 2,
   "metadata": {},
   "outputs": [
    {
     "data": {
      "application/vnd.jupyter.widget-view+json": {
       "model_id": "5c351241b05b4b5ea0d12c18d1cd9d85",
       "version_major": 2,
       "version_minor": 0
      },
      "text/plain": [
       "interactive(children=(Output(),), _dom_classes=('widget-interact',))"
      ]
     },
     "metadata": {},
     "output_type": "display_data"
    }
   ],
   "source": [
    "def plot_func():\n",
    "    # Function that operates on data set\n",
    "    pass\n",
    "\n",
    "widgets.interact(plot_func, \n",
    "    # Let the widget interact with data through plot_func()    \n",
    "); \n"
   ]
  },
  {
   "cell_type": "markdown",
   "metadata": {},
   "source": [
    "Explain what you see when moving elements of the interactive plot around. "
   ]
  },
  {
   "cell_type": "markdown",
   "metadata": {},
   "source": [
    "# Merge data sets"
   ]
  },
  {
   "cell_type": "markdown",
   "metadata": {},
   "source": [
    "Now you create combinations of your loaded data sets. Remember the illustration of a (inner) **merge**:"
   ]
  },
  {
   "cell_type": "code",
   "execution_count": 3,
   "metadata": {},
   "outputs": [
    {
     "data": {
      "image/png": "[encoded data removed]",
      "text/plain": [
       "<Figure size 1080x504 with 1 Axes>"
      ]
     },
     "metadata": {},
     "output_type": "display_data"
    }
   ],
   "source": [
    "plt.figure(figsize=(15,7))\n",
    "v = venn2(subsets = (4, 4, 10), set_labels = ('Data X', 'Data Y'))\n",
    "v.get_label_by_id('100').set_text('dropped')\n",
    "v.get_label_by_id('010').set_text('dropped' )\n",
    "v.get_label_by_id('110').set_text('included')\n",
    "plt.show()"
   ]
  },
  {
   "cell_type": "markdown",
   "metadata": {},
   "source": [
    "Here we are dropping elements from both data set X and data set Y. A left join would keep all observations in data X intact and subset only from Y. \n",
    "\n",
    "Make sure that your resulting data sets have the correct number of rows and columns. That is, be clear about which observations are thrown away. \n",
    "\n",
    "**Note:** Don't make Venn diagrams in your own data project. It is just for exposition. "
   ]
  },
  {
   "cell_type": "markdown",
   "metadata": {},
   "source": [
    "# Analysis"
   ]
  },
  {
   "cell_type": "markdown",
   "metadata": {},
   "source": [
    "To get a quick overview of the data, we show some **summary statistics** on a meaningful aggregation. "
   ]
  },
  {
   "cell_type": "markdown",
   "metadata": {},
   "source": [
    "MAKE FURTHER ANALYSIS. EXPLAIN THE CODE BRIEFLY AND SUMMARIZE THE RESULTS."
   ]
  },
  {
   "cell_type": "markdown",
   "metadata": {},
   "source": [
    "# Conclusion"
   ]
  },
  {
   "cell_type": "markdown",
   "metadata": {},
   "source": [
    "ADD CONCISE CONLUSION."
   ]
  }
 ],
 "metadata": {
  "kernelspec": {
   "display_name": "base",
   "language": "python",
   "name": "python3"
  },
  "language_info": {
   "codemirror_mode": {
    "name": "ipython",
    "version": 3
   },
   "file_extension": ".py",
   "mimetype": "text/x-python",
   "name": "python",
   "nbconvert_exporter": "python",
   "pygments_lexer": "ipython3",
   "version": "3.9.16"
  },
  "toc-autonumbering": true,
  "vscode": {
   "interpreter": {
    "hash": "66d5aef947e9d9a29a088e6f0b9f665aa73a8c33f5b7bfa8cef9615f81c0a2c0"
   }
  }
 },
 "nbformat": 4,
 "nbformat_minor": 4
}
